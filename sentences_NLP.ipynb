{
 "cells": [
  {
   "cell_type": "markdown",
   "id": "8d48d97b",
   "metadata": {},
   "source": [
    "# <h1 style=\"color:#2E86C1; text-align:center; font-size:2.8em; font-family: 'Segoe UI', Verdana, Geneva, Tahoma, sans-serif; letter-spacing:2px; margin-top:40px;\">\n",
    "#   PRUEBA TÉCNICA PARA CAMBRIAN INTELLIGENCE\n",
    "# </h1>\n",
    "# <h3 style=\"color:#117864; text-align:center; font-size:1.5em; font-family: 'Segoe UI', Verdana, Geneva, Tahoma, sans-serif; margin-bottom:40px;\">\n",
    "#   Autor: Alberto López Casanova\n",
    "# </h3>"
   ]
  },
  {
   "cell_type": "markdown",
   "id": "6a8e2d45",
   "metadata": {},
   "source": [
    "## EDA \n"
   ]
  },
  {
   "cell_type": "markdown",
   "id": "d8e938da",
   "metadata": {},
   "source": [
    "\n",
    "En primer lugar, vamos a realizar un analisis exploratorio de datos para entender el tipo de frases que tenemos y sacar estadisticas que puedan ser de valor"
   ]
  },
  {
   "cell_type": "code",
   "execution_count": 61,
   "id": "78ef57f7",
   "metadata": {},
   "outputs": [],
   "source": [
    "# Importamos las librerías necesarias\n",
    "\n",
    "import json\n",
    "import random\n",
    "import pandas as pd\n",
    "import numpy as np\n",
    "import matplotlib.pyplot as plt\n",
    "import seaborn as sns\n",
    "import spacy\n",
    "from difflib import SequenceMatcher\n",
    "from sklearn.cluster import AgglomerativeClustering\n",
    "from sentence_transformers import SentenceTransformer\n",
    "from sklearn.metrics.pairwise import cosine_similarity\n"
   ]
  },
  {
   "cell_type": "markdown",
   "id": "a6d5f26b",
   "metadata": {},
   "source": [
    "---"
   ]
  },
  {
   "cell_type": "markdown",
   "id": "e22b6a5e",
   "metadata": {},
   "source": [
    "### 1. CARGA Y VISUALIZACIÓN INICIAL"
   ]
  },
  {
   "cell_type": "markdown",
   "id": "eb60fb03",
   "metadata": {},
   "source": [
    "En primer lugar cargamos el archivo, que está en formato JSON."
   ]
  },
  {
   "cell_type": "code",
   "execution_count": 39,
   "id": "9fdf323a",
   "metadata": {},
   "outputs": [],
   "source": [
    "with open('sentences.json', 'r') as f:\n",
    "    sentences = json.load(f)"
   ]
  },
  {
   "cell_type": "markdown",
   "id": "c74bc5a9",
   "metadata": {},
   "source": [
    "Hacemos un análisis básico para entender el dataset que tenemos"
   ]
  },
  {
   "cell_type": "code",
   "execution_count": 40,
   "id": "ace7e6e8",
   "metadata": {},
   "outputs": [
    {
     "name": "stdout",
     "output_type": "stream",
     "text": [
      "Total de frases: 100\n"
     ]
    }
   ],
   "source": [
    "print(f\"Total de frases: {len(sentences)}\")"
   ]
  },
  {
   "cell_type": "code",
   "execution_count": 41,
   "id": "8a4b437a",
   "metadata": {},
   "outputs": [
    {
     "name": "stdout",
     "output_type": "stream",
     "text": [
      "Primeras 5 frases:\n",
      "- The dragonfly's wings sparkled like gemstones in the sunlight.\n",
      "- The bagpipes were adorned with a tartan pattern, honoring Scottish tradition.\n",
      "- The fur pattern on the tiger was striking and intimidating.\n",
      "- The triangle was simple but required precise timing.\n",
      "- The sequoia tree was so tall it seemed to touch the sky.\n"
     ]
    }
   ],
   "source": [
    "print(\"Primeras 5 frases:\")\n",
    "for p in sentences[:5]:\n",
    "    print(\"-\", p)"
   ]
  },
  {
   "cell_type": "code",
   "execution_count": 42,
   "id": "1bc589aa",
   "metadata": {},
   "outputs": [
    {
     "name": "stdout",
     "output_type": "stream",
     "text": [
      "Frases aleatorias del dataset:\n",
      "- The petals of the rose were arranged in perfect symmetry.\n",
      "- The theremin was unique in that it required no physical contact to play.\n",
      "- The painting was done in shades of blue, evoking a sense of calm.\n",
      "- The pumpkin vine spread out over a vast area, dominating the garden.\n",
      "- The dandelion seed head formed a delicate sphere, ready to be carried away by the wind.\n"
     ]
    }
   ],
   "source": [
    "print(\"Frases aleatorias del dataset:\")\n",
    "for p in random.sample(sentences, 5):\n",
    "    print(\"-\", p)"
   ]
  },
  {
   "cell_type": "markdown",
   "id": "d312a659",
   "metadata": {},
   "source": [
    "Antes de realizar un análisis más profundo de las estadísticas y los patrones de lenguaje en las distintas frases, podemos notar a simple vista un patrón recurrente: generalmente comienzan con “The” seguido de un sustantivo, para luego describir alguna característica de este. Además, utilizan estructuras típicas de descripciones, como analogías o comparaciones."
   ]
  },
  {
   "cell_type": "markdown",
   "id": "c7eb8c8c",
   "metadata": {},
   "source": [
    "---"
   ]
  },
  {
   "cell_type": "markdown",
   "id": "2fc1ef8a",
   "metadata": {},
   "source": [
    "### 2. ANÁLISIS BÁSICO"
   ]
  },
  {
   "cell_type": "markdown",
   "id": "f7d67135",
   "metadata": {},
   "source": [
    "En primer lugar, analizamos métricas básicas, como la longitud de las frases, el número de caracteres y algunas estadísticas descriptivas. Para ello, crearemos un DataFrame que contenga cada frase junto con el número de palabras y número de caracteres correspondientes."
   ]
  },
  {
   "cell_type": "code",
   "execution_count": 43,
   "id": "3e5966d1",
   "metadata": {},
   "outputs": [
    {
     "data": {
      "text/html": [
       "<div>\n",
       "<style scoped>\n",
       "    .dataframe tbody tr th:only-of-type {\n",
       "        vertical-align: middle;\n",
       "    }\n",
       "\n",
       "    .dataframe tbody tr th {\n",
       "        vertical-align: top;\n",
       "    }\n",
       "\n",
       "    .dataframe thead th {\n",
       "        text-align: right;\n",
       "    }\n",
       "</style>\n",
       "<table border=\"1\" class=\"dataframe\">\n",
       "  <thead>\n",
       "    <tr style=\"text-align: right;\">\n",
       "      <th></th>\n",
       "      <th>phrase</th>\n",
       "      <th>words</th>\n",
       "      <th>num_chars</th>\n",
       "    </tr>\n",
       "  </thead>\n",
       "  <tbody>\n",
       "    <tr>\n",
       "      <th>0</th>\n",
       "      <td>The dragonfly's wings sparkled like gemstones ...</td>\n",
       "      <td>9</td>\n",
       "      <td>62</td>\n",
       "    </tr>\n",
       "    <tr>\n",
       "      <th>1</th>\n",
       "      <td>The bagpipes were adorned with a tartan patter...</td>\n",
       "      <td>11</td>\n",
       "      <td>77</td>\n",
       "    </tr>\n",
       "    <tr>\n",
       "      <th>2</th>\n",
       "      <td>The fur pattern on the tiger was striking and ...</td>\n",
       "      <td>10</td>\n",
       "      <td>59</td>\n",
       "    </tr>\n",
       "    <tr>\n",
       "      <th>3</th>\n",
       "      <td>The triangle was simple but required precise t...</td>\n",
       "      <td>8</td>\n",
       "      <td>52</td>\n",
       "    </tr>\n",
       "    <tr>\n",
       "      <th>4</th>\n",
       "      <td>The sequoia tree was so tall it seemed to touc...</td>\n",
       "      <td>12</td>\n",
       "      <td>56</td>\n",
       "    </tr>\n",
       "  </tbody>\n",
       "</table>\n",
       "</div>"
      ],
      "text/plain": [
       "                                              phrase  words  num_chars\n",
       "0  The dragonfly's wings sparkled like gemstones ...      9         62\n",
       "1  The bagpipes were adorned with a tartan patter...     11         77\n",
       "2  The fur pattern on the tiger was striking and ...     10         59\n",
       "3  The triangle was simple but required precise t...      8         52\n",
       "4  The sequoia tree was so tall it seemed to touc...     12         56"
      ]
     },
     "execution_count": 43,
     "metadata": {},
     "output_type": "execute_result"
    }
   ],
   "source": [
    "df = pd.DataFrame({\n",
    "    \"phrase\": sentences,\n",
    "    \"words\": [len(p.split()) for p in sentences],\n",
    "    \"num_chars\": [len(p) for p in sentences],\n",
    "})\n",
    "\n",
    "df.head()"
   ]
  },
  {
   "cell_type": "markdown",
   "id": "26093b00",
   "metadata": {},
   "source": [
    "A continuación, obtenemos los estadísticos básicos de las columnas o características “words” (número de palabras) y “num_chars” (número de caracteres)."
   ]
  },
  {
   "cell_type": "code",
   "execution_count": 44,
   "id": "6b0c43b3",
   "metadata": {},
   "outputs": [
    {
     "data": {
      "text/html": [
       "<div>\n",
       "<style scoped>\n",
       "    .dataframe tbody tr th:only-of-type {\n",
       "        vertical-align: middle;\n",
       "    }\n",
       "\n",
       "    .dataframe tbody tr th {\n",
       "        vertical-align: top;\n",
       "    }\n",
       "\n",
       "    .dataframe thead th {\n",
       "        text-align: right;\n",
       "    }\n",
       "</style>\n",
       "<table border=\"1\" class=\"dataframe\">\n",
       "  <thead>\n",
       "    <tr style=\"text-align: right;\">\n",
       "      <th></th>\n",
       "      <th>words</th>\n",
       "      <th>num_chars</th>\n",
       "    </tr>\n",
       "  </thead>\n",
       "  <tbody>\n",
       "    <tr>\n",
       "      <th>count</th>\n",
       "      <td>100.000000</td>\n",
       "      <td>100.000000</td>\n",
       "    </tr>\n",
       "    <tr>\n",
       "      <th>mean</th>\n",
       "      <td>11.490000</td>\n",
       "      <td>68.110000</td>\n",
       "    </tr>\n",
       "    <tr>\n",
       "      <th>std</th>\n",
       "      <td>2.012562</td>\n",
       "      <td>8.874996</td>\n",
       "    </tr>\n",
       "    <tr>\n",
       "      <th>min</th>\n",
       "      <td>8.000000</td>\n",
       "      <td>52.000000</td>\n",
       "    </tr>\n",
       "    <tr>\n",
       "      <th>25%</th>\n",
       "      <td>10.000000</td>\n",
       "      <td>62.000000</td>\n",
       "    </tr>\n",
       "    <tr>\n",
       "      <th>50%</th>\n",
       "      <td>11.000000</td>\n",
       "      <td>66.000000</td>\n",
       "    </tr>\n",
       "    <tr>\n",
       "      <th>75%</th>\n",
       "      <td>13.000000</td>\n",
       "      <td>74.250000</td>\n",
       "    </tr>\n",
       "    <tr>\n",
       "      <th>max</th>\n",
       "      <td>18.000000</td>\n",
       "      <td>90.000000</td>\n",
       "    </tr>\n",
       "  </tbody>\n",
       "</table>\n",
       "</div>"
      ],
      "text/plain": [
       "            words   num_chars\n",
       "count  100.000000  100.000000\n",
       "mean    11.490000   68.110000\n",
       "std      2.012562    8.874996\n",
       "min      8.000000   52.000000\n",
       "25%     10.000000   62.000000\n",
       "50%     11.000000   66.000000\n",
       "75%     13.000000   74.250000\n",
       "max     18.000000   90.000000"
      ]
     },
     "execution_count": 44,
     "metadata": {},
     "output_type": "execute_result"
    }
   ],
   "source": [
    "df.describe()"
   ]
  },
  {
   "cell_type": "markdown",
   "id": "419bb1fe",
   "metadata": {},
   "source": [
    "En general, se observa que, dado que la media de palabras por frase es 11.49 y la desviación estándar es 2.02, se puede afirmar que la longitud de las frases, en términos de palabras, es bastante uniforme.\n",
    "\n",
    "En cuanto al número de caracteres, la desviación estándar es mayor, lo cual es normal, ya que algunas palabras pueden ser más largas que otras."
   ]
  },
  {
   "cell_type": "markdown",
   "id": "e30a0886",
   "metadata": {},
   "source": [
    "A continuación pasamos a graficar la distribución de la longitud de las frases tanto en palabras como en caracteres"
   ]
  },
  {
   "cell_type": "code",
   "execution_count": 45,
   "id": "4bf6995a",
   "metadata": {},
   "outputs": [],
   "source": [
    "# Configuración de estilo para gráficos\n",
    "sns.set_theme(style=\"whitegrid\")"
   ]
  },
  {
   "cell_type": "code",
   "execution_count": 46,
   "id": "583b1ec2",
   "metadata": {},
   "outputs": [
    {
     "data": {
      "image/png": "[encoded data removed]",
      "text/plain": [
       "<Figure size 800x500 with 1 Axes>"
      ]
     },
     "metadata": {},
     "output_type": "display_data"
    }
   ],
   "source": [
    "# Histograma de número de palabras por frase\n",
    "plt.figure(figsize=(8, 5))\n",
    "sns.histplot(df[\"words\"], bins=10, kde=True, color=\"skyblue\")\n",
    "plt.title(\"Distribución de la longitud de las frases (en palabras)\")\n",
    "plt.xlabel(\"Número de palabras\")\n",
    "plt.ylabel(\"Frecuencia\")\n",
    "plt.show()"
   ]
  },
  {
   "cell_type": "code",
   "execution_count": 47,
   "id": "899ec12b",
   "metadata": {},
   "outputs": [
    {
     "data": {
      "image/png": "[encoded data removed]",
      "text/plain": [
       "<Figure size 800x500 with 1 Axes>"
      ]
     },
     "metadata": {},
     "output_type": "display_data"
    }
   ],
   "source": [
    "# Histograma de número de caracteres por frase\n",
    "plt.figure(figsize=(8, 5))\n",
    "sns.histplot(df[\"num_chars\"], bins=10, kde=True, color=\"salmon\")\n",
    "plt.title(\"Distribución de la longitud de las frases (en caracteres)\")\n",
    "plt.xlabel(\"Número de caracteres\")\n",
    "plt.ylabel(\"Frecuencia\")\n",
    "plt.show()"
   ]
  },
  {
   "cell_type": "markdown",
   "id": "d1a3cc3a",
   "metadata": {},
   "source": [
    " **Análisis gráfico de la longitud de las frases**\n",
    " \n",
    "- **Distribución de palabras:**  \n",
    "   La mayoría de las frases tienen entre 10 y 13 palabras, lo que indica que son descriptivas, pero no excesivamente cortas ni largas.\n",
    "\n",
    "- **Forma de la distribución:**  \n",
    "   Tanto para palabras como para caracteres, la distribución se asemeja a una campana de Gauss (distribución normal). Esto sugiere que las frases han sido escritas o seleccionadas de manera consciente y consistente, con alto contenido semántico.\n",
    " \n",
    "- **Rango y homogeneidad:**  \n",
    "  El rango de longitudes es estrecho y la forma de la distribución es compacta, lo que confirma que las frases son muy similares en extensión.\n",
    "\n",
    "- **Comparación con otros textos:**  \n",
    "   Si la distribución fuera asimétrica o con gran variación, podríamos pensar en textos no depurados (por ejemplo, transcripciones de diálogos). No es el caso aquí.\n",
    "\n",
    " \n",
    "**Conclusiones principales:**\n",
    " \n",
    "- La mayoría de las frases tienen entre 10 y 13 palabras, con una moda cercana a 11.\n",
    "- El patrón observado sugiere un estilo de escritura controlado y descriptivo.\n",
    "- Las frases son lo suficientemente largas para expresar ideas completas, pero no tanto como para perder coherencia semántica.\n",
    "- Esta longitud es ideal para tareas de representación semántica mediante embeddings."
   ]
  },
  {
   "cell_type": "markdown",
   "id": "7bc59950",
   "metadata": {},
   "source": [
    "---"
   ]
  },
  {
   "cell_type": "markdown",
   "id": "1ad5e221",
   "metadata": {},
   "source": [
    "### 3. ANALISIS ESTRUCTURAL Y GRAMATICAL CON SPACY"
   ]
  },
  {
   "cell_type": "code",
   "execution_count": 48,
   "id": "bb83806c",
   "metadata": {},
   "outputs": [],
   "source": [
    "# Carga del modelo de spaCy, basado en arquitectura Transformer para más precisión\n",
    "\n",
    "nlp = spacy.load(\"en_core_web_trf\")"
   ]
  },
  {
   "cell_type": "markdown",
   "id": "1f1bfb07",
   "metadata": {},
   "source": [
    "Primero analizamos la **estructura gramatical** de las frases, **tokenizando** cada una de ellas y extrayendo tanto la **categoría gramatical** de cada token como su **relación de dependencia sintáctica**.\n",
    "\n",
    "- **POS (Part-of-Speech Tagging):** proceso de **etiquetar la categoría gramatical** de cada palabra (sustantivo, verbo, adjetivo, etc.).  \n",
    "- **DEP (Dependency Parsing):** indica la **función sintáctica de una palabra dentro de la oración** y su **relación con las demás palabras**."
   ]
  },
  {
   "cell_type": "code",
   "execution_count": 49,
   "id": "b8a3a6de",
   "metadata": {},
   "outputs": [],
   "source": [
    "# Procesarlas en bloque para eficiencia\n",
    "docs = list(nlp.pipe(sentences))\n",
    "\n",
    "# Extraer estructura POS+DEP para cada frase\n",
    "estructuras = []\n",
    "for doc in docs:\n",
    "    estructura = [f\"{token.pos_}_{token.dep_}\" for token in doc]\n",
    "    estructuras.append(estructura)"
   ]
  },
  {
   "cell_type": "markdown",
   "id": "95638dd9",
   "metadata": {},
   "source": [
    "Una vez tenemos la estructura gramatical de cada frase con POS y DEP, pasamos a comparar todas ellas con el fin de averiguar si las estructuras utilizadas son parecidas o no a nivel de sintaxis. Para ello usamos SequenceMatcher que básicamente mide la simulitud de las secuencias a comparar. Es importante destacar que no mide la similitud semántica, para ello es mejor usar embeddings como se hace más adelante en este notebook."
   ]
  },
  {
   "cell_type": "code",
   "execution_count": 50,
   "id": "3ec32c1e",
   "metadata": {},
   "outputs": [],
   "source": [
    "def sim_seq(seq1, seq2):\n",
    "    return SequenceMatcher(None, seq1, seq2).ratio()\n",
    "\n",
    "n = len(estructuras)\n",
    "sim_matrix = np.zeros((n, n))\n",
    "\n",
    "for i in range(n):\n",
    "    for j in range(i, n):\n",
    "        sim = sim_seq(estructuras[i], estructuras[j])\n",
    "        sim_matrix[i][j] = sim\n",
    "        sim_matrix[j][i] = sim"
   ]
  },
  {
   "cell_type": "code",
   "execution_count": 51,
   "id": "c2c3d7d9",
   "metadata": {},
   "outputs": [
    {
     "data": {
      "image/png": "[encoded data removed]",
      "text/plain": [
       "<Figure size 1000x800 with 2 Axes>"
      ]
     },
     "metadata": {},
     "output_type": "display_data"
    }
   ],
   "source": [
    "#Graficamos la matriz de similitud estructural\n",
    "\n",
    "plt.figure(figsize=(10, 8))\n",
    "sns.heatmap(sim_matrix, cmap=\"viridis\")\n",
    "plt.title(\"Similitud estructural entre frases\")\n",
    "plt.xlabel(\"Frases\")\n",
    "plt.ylabel(\"Frases\")\n",
    "plt.show()"
   ]
  },
  {
   "cell_type": "markdown",
   "id": "26048059",
   "metadata": {},
   "source": [
    "Con el fin de identificar **outliers** en el dataset en cuanto a **estructura gramatical**, podemos enumerar las frases que no cumplen con un umbral de media de similitud léxica con el resto de frases."
   ]
  },
  {
   "cell_type": "code",
   "execution_count": 52,
   "id": "d4cf9118",
   "metadata": {},
   "outputs": [
    {
     "name": "stdout",
     "output_type": "stream",
     "text": [
      "Frase única o rara [7]: The porcupine had quills that could detach when threatened. (media similitud = 0.40)\n",
      "Frase única o rara [9]: The origami crane was minute but intricately folded. (media similitud = 0.29)\n",
      "Frase única o rara [18]: The sitar's complex architecture made it visually fascinating. (media similitud = 0.37)\n",
      "Frase única o rara [30]: Compared to other birds, the condor's wingspan was extraordinary. (media similitud = 0.32)\n",
      "Frase única o rara [41]: Compared to the cargo ships, the jet ski appeared as tiny as a minnow in a pond. (media similitud = 0.36)\n",
      "Frase única o rara [48]: The accordion was decorated with ornate patterns that gave it an old-world charm. (media similitud = 0.40)\n",
      "Frase única o rara [50]: The blue orchids were so vibrant they looked almost unreal. (media similitud = 0.35)\n",
      "Frase única o rara [71]: The fire truck's red hue was so vivid that it could be spotted miles away. (media similitud = 0.31)\n",
      "Frase única o rara [76]: The maracas were hand-painted, each telling a unique story. (media similitud = 0.38)\n",
      "Frase única o rara [91]: The ladybug's red and black contrast made it easily noticeable. (media similitud = 0.34)\n",
      "Frase única o rara [92]: The theremin was unique in that it required no physical contact to play. (media similitud = 0.33)\n"
     ]
    }
   ],
   "source": [
    "# Similitud media por frase\n",
    "\n",
    "media_similitud = sim_matrix.mean(axis=1) # Importante media de similitud a lo largo de las filas ya que la matriz es simétrica\n",
    "\n",
    "umbral_unicidad = 0.4 # Este umbral se puede ajustar según el caso\n",
    "for i, sim in enumerate(media_similitud):\n",
    "    if sim < umbral_unicidad:\n",
    "        print(f\"Frase única o rara [{i}]: {sentences[i]} (media similitud = {sim:.2f})\")\n"
   ]
  },
  {
   "cell_type": "markdown",
   "id": "fa4c84f5",
   "metadata": {},
   "source": [
    "Es importante recordar que estos son outliers en cuanto a estructura gramatical se refiere, sin embargo, semánticamente no tiene por qué serlo pues pueden estar relacionadas en cuanto a significado con otras de las frases del dataset."
   ]
  },
  {
   "cell_type": "code",
   "execution_count": null,
   "id": "9a1188d5",
   "metadata": {},
   "outputs": [
    {
     "name": "stdout",
     "output_type": "stream",
     "text": [
      "\n",
      "Grupo 0\n"
     ]
    },
    {
     "data": {
      "text/html": [
       "<div>\n",
       "<style scoped>\n",
       "    .dataframe tbody tr th:only-of-type {\n",
       "        vertical-align: middle;\n",
       "    }\n",
       "\n",
       "    .dataframe tbody tr th {\n",
       "        vertical-align: top;\n",
       "    }\n",
       "\n",
       "    .dataframe thead th {\n",
       "        text-align: right;\n",
       "    }\n",
       "</style>\n",
       "<table border=\"1\" class=\"dataframe\">\n",
       "  <thead>\n",
       "    <tr style=\"text-align: right;\">\n",
       "      <th></th>\n",
       "      <th>frase</th>\n",
       "      <th>estructura</th>\n",
       "      <th>grupo</th>\n",
       "    </tr>\n",
       "  </thead>\n",
       "  <tbody>\n",
       "    <tr>\n",
       "      <th>0</th>\n",
       "      <td>The dragonfly's wings sparkled like gemstones ...</td>\n",
       "      <td>DET_det NOUN_poss PART_case NOUN_nsubj VERB_RO...</td>\n",
       "      <td>0</td>\n",
       "    </tr>\n",
       "    <tr>\n",
       "      <th>6</th>\n",
       "      <td>The mimosa plant responded to touch by folding...</td>\n",
       "      <td>DET_det NOUN_compound NOUN_nsubj VERB_ROOT ADP...</td>\n",
       "      <td>0</td>\n",
       "    </tr>\n",
       "    <tr>\n",
       "      <th>7</th>\n",
       "      <td>The porcupine had quills that could detach whe...</td>\n",
       "      <td>DET_det NOUN_nsubj VERB_ROOT NOUN_dobj PRON_ns...</td>\n",
       "      <td>0</td>\n",
       "    </tr>\n",
       "    <tr>\n",
       "      <th>8</th>\n",
       "      <td>The dandelion seed head formed a delicate sphe...</td>\n",
       "      <td>DET_det NOUN_compound NOUN_compound NOUN_nsubj...</td>\n",
       "      <td>0</td>\n",
       "    </tr>\n",
       "    <tr>\n",
       "      <th>10</th>\n",
       "      <td>The didgeridoo produced a haunting sound that ...</td>\n",
       "      <td>DET_det NOUN_nsubj VERB_ROOT DET_det VERB_amod...</td>\n",
       "      <td>0</td>\n",
       "    </tr>\n",
       "  </tbody>\n",
       "</table>\n",
       "</div>"
      ],
      "text/plain": [
       "                                                frase  \\\n",
       "0   The dragonfly's wings sparkled like gemstones ...   \n",
       "6   The mimosa plant responded to touch by folding...   \n",
       "7   The porcupine had quills that could detach whe...   \n",
       "8   The dandelion seed head formed a delicate sphe...   \n",
       "10  The didgeridoo produced a haunting sound that ...   \n",
       "\n",
       "                                           estructura  grupo  \n",
       "0   DET_det NOUN_poss PART_case NOUN_nsubj VERB_RO...      0  \n",
       "6   DET_det NOUN_compound NOUN_nsubj VERB_ROOT ADP...      0  \n",
       "7   DET_det NOUN_nsubj VERB_ROOT NOUN_dobj PRON_ns...      0  \n",
       "8   DET_det NOUN_compound NOUN_compound NOUN_nsubj...      0  \n",
       "10  DET_det NOUN_nsubj VERB_ROOT DET_det VERB_amod...      0  "
      ]
     },
     "metadata": {},
     "output_type": "display_data"
    },
    {
     "name": "stdout",
     "output_type": "stream",
     "text": [
      "\n",
      "Grupo 1\n"
     ]
    },
    {
     "data": {
      "text/html": [
       "<div>\n",
       "<style scoped>\n",
       "    .dataframe tbody tr th:only-of-type {\n",
       "        vertical-align: middle;\n",
       "    }\n",
       "\n",
       "    .dataframe tbody tr th {\n",
       "        vertical-align: top;\n",
       "    }\n",
       "\n",
       "    .dataframe thead th {\n",
       "        text-align: right;\n",
       "    }\n",
       "</style>\n",
       "<table border=\"1\" class=\"dataframe\">\n",
       "  <thead>\n",
       "    <tr style=\"text-align: right;\">\n",
       "      <th></th>\n",
       "      <th>frase</th>\n",
       "      <th>estructura</th>\n",
       "      <th>grupo</th>\n",
       "    </tr>\n",
       "  </thead>\n",
       "  <tbody>\n",
       "    <tr>\n",
       "      <th>1</th>\n",
       "      <td>The bagpipes were adorned with a tartan patter...</td>\n",
       "      <td>DET_det NOUN_nsubjpass AUX_auxpass VERB_ROOT A...</td>\n",
       "      <td>1</td>\n",
       "    </tr>\n",
       "    <tr>\n",
       "      <th>12</th>\n",
       "      <td>The petals of the rose were arranged in perfec...</td>\n",
       "      <td>DET_det NOUN_nsubjpass ADP_prep DET_det NOUN_p...</td>\n",
       "      <td>1</td>\n",
       "    </tr>\n",
       "    <tr>\n",
       "      <th>22</th>\n",
       "      <td>The aloe vera plant was known for its medicina...</td>\n",
       "      <td>DET_det NOUN_compound NOUN_compound NOUN_nsubj...</td>\n",
       "      <td>1</td>\n",
       "    </tr>\n",
       "    <tr>\n",
       "      <th>26</th>\n",
       "      <td>The spacecraft was equipped with advanced life...</td>\n",
       "      <td>DET_det NOUN_nsubjpass AUX_auxpass VERB_ROOT A...</td>\n",
       "      <td>1</td>\n",
       "    </tr>\n",
       "    <tr>\n",
       "      <th>43</th>\n",
       "      <td>The kazoo was often underestimated, but it cou...</td>\n",
       "      <td>DET_det NOUN_nsubjpass AUX_auxpass ADV_advmod ...</td>\n",
       "      <td>1</td>\n",
       "    </tr>\n",
       "  </tbody>\n",
       "</table>\n",
       "</div>"
      ],
      "text/plain": [
       "                                                frase  \\\n",
       "1   The bagpipes were adorned with a tartan patter...   \n",
       "12  The petals of the rose were arranged in perfec...   \n",
       "22  The aloe vera plant was known for its medicina...   \n",
       "26  The spacecraft was equipped with advanced life...   \n",
       "43  The kazoo was often underestimated, but it cou...   \n",
       "\n",
       "                                           estructura  grupo  \n",
       "1   DET_det NOUN_nsubjpass AUX_auxpass VERB_ROOT A...      1  \n",
       "12  DET_det NOUN_nsubjpass ADP_prep DET_det NOUN_p...      1  \n",
       "22  DET_det NOUN_compound NOUN_compound NOUN_nsubj...      1  \n",
       "26  DET_det NOUN_nsubjpass AUX_auxpass VERB_ROOT A...      1  \n",
       "43  DET_det NOUN_nsubjpass AUX_auxpass ADV_advmod ...      1  "
      ]
     },
     "metadata": {},
     "output_type": "display_data"
    },
    {
     "name": "stdout",
     "output_type": "stream",
     "text": [
      "\n",
      "Grupo 2\n"
     ]
    },
    {
     "data": {
      "text/html": [
       "<div>\n",
       "<style scoped>\n",
       "    .dataframe tbody tr th:only-of-type {\n",
       "        vertical-align: middle;\n",
       "    }\n",
       "\n",
       "    .dataframe tbody tr th {\n",
       "        vertical-align: top;\n",
       "    }\n",
       "\n",
       "    .dataframe thead th {\n",
       "        text-align: right;\n",
       "    }\n",
       "</style>\n",
       "<table border=\"1\" class=\"dataframe\">\n",
       "  <thead>\n",
       "    <tr style=\"text-align: right;\">\n",
       "      <th></th>\n",
       "      <th>frase</th>\n",
       "      <th>estructura</th>\n",
       "      <th>grupo</th>\n",
       "    </tr>\n",
       "  </thead>\n",
       "  <tbody>\n",
       "    <tr>\n",
       "      <th>30</th>\n",
       "      <td>Compared to other birds, the condor's wingspan...</td>\n",
       "      <td>VERB_prep ADP_prep ADJ_amod NOUN_pobj PUNCT_pu...</td>\n",
       "      <td>2</td>\n",
       "    </tr>\n",
       "    <tr>\n",
       "      <th>41</th>\n",
       "      <td>Compared to the cargo ships, the jet ski appea...</td>\n",
       "      <td>VERB_prep ADP_prep DET_det NOUN_compound NOUN_...</td>\n",
       "      <td>2</td>\n",
       "    </tr>\n",
       "  </tbody>\n",
       "</table>\n",
       "</div>"
      ],
      "text/plain": [
       "                                                frase  \\\n",
       "30  Compared to other birds, the condor's wingspan...   \n",
       "41  Compared to the cargo ships, the jet ski appea...   \n",
       "\n",
       "                                           estructura  grupo  \n",
       "30  VERB_prep ADP_prep ADJ_amod NOUN_pobj PUNCT_pu...      2  \n",
       "41  VERB_prep ADP_prep DET_det NOUN_compound NOUN_...      2  "
      ]
     },
     "metadata": {},
     "output_type": "display_data"
    },
    {
     "name": "stdout",
     "output_type": "stream",
     "text": [
      "\n",
      "Grupo 3\n"
     ]
    },
    {
     "data": {
      "text/html": [
       "<div>\n",
       "<style scoped>\n",
       "    .dataframe tbody tr th:only-of-type {\n",
       "        vertical-align: middle;\n",
       "    }\n",
       "\n",
       "    .dataframe tbody tr th {\n",
       "        vertical-align: top;\n",
       "    }\n",
       "\n",
       "    .dataframe thead th {\n",
       "        text-align: right;\n",
       "    }\n",
       "</style>\n",
       "<table border=\"1\" class=\"dataframe\">\n",
       "  <thead>\n",
       "    <tr style=\"text-align: right;\">\n",
       "      <th></th>\n",
       "      <th>frase</th>\n",
       "      <th>estructura</th>\n",
       "      <th>grupo</th>\n",
       "    </tr>\n",
       "  </thead>\n",
       "  <tbody>\n",
       "    <tr>\n",
       "      <th>92</th>\n",
       "      <td>The theremin was unique in that it required no...</td>\n",
       "      <td>DET_det X_nsubj AUX_ROOT ADJ_acomp SCONJ_mark ...</td>\n",
       "      <td>3</td>\n",
       "    </tr>\n",
       "  </tbody>\n",
       "</table>\n",
       "</div>"
      ],
      "text/plain": [
       "                                                frase  \\\n",
       "92  The theremin was unique in that it required no...   \n",
       "\n",
       "                                           estructura  grupo  \n",
       "92  DET_det X_nsubj AUX_ROOT ADJ_acomp SCONJ_mark ...      3  "
      ]
     },
     "metadata": {},
     "output_type": "display_data"
    },
    {
     "name": "stdout",
     "output_type": "stream",
     "text": [
      "\n",
      "Grupo 4\n"
     ]
    },
    {
     "data": {
      "text/html": [
       "<div>\n",
       "<style scoped>\n",
       "    .dataframe tbody tr th:only-of-type {\n",
       "        vertical-align: middle;\n",
       "    }\n",
       "\n",
       "    .dataframe tbody tr th {\n",
       "        vertical-align: top;\n",
       "    }\n",
       "\n",
       "    .dataframe thead th {\n",
       "        text-align: right;\n",
       "    }\n",
       "</style>\n",
       "<table border=\"1\" class=\"dataframe\">\n",
       "  <thead>\n",
       "    <tr style=\"text-align: right;\">\n",
       "      <th></th>\n",
       "      <th>frase</th>\n",
       "      <th>estructura</th>\n",
       "      <th>grupo</th>\n",
       "    </tr>\n",
       "  </thead>\n",
       "  <tbody>\n",
       "    <tr>\n",
       "      <th>9</th>\n",
       "      <td>The origami crane was minute but intricately f...</td>\n",
       "      <td>DET_det NOUN_compound NOUN_nsubjpass AUX_auxpa...</td>\n",
       "      <td>4</td>\n",
       "    </tr>\n",
       "  </tbody>\n",
       "</table>\n",
       "</div>"
      ],
      "text/plain": [
       "                                               frase  \\\n",
       "9  The origami crane was minute but intricately f...   \n",
       "\n",
       "                                          estructura  grupo  \n",
       "9  DET_det NOUN_compound NOUN_nsubjpass AUX_auxpa...      4  "
      ]
     },
     "metadata": {},
     "output_type": "display_data"
    },
    {
     "name": "stdout",
     "output_type": "stream",
     "text": [
      "\n",
      "Grupo 5\n"
     ]
    },
    {
     "data": {
      "text/html": [
       "<div>\n",
       "<style scoped>\n",
       "    .dataframe tbody tr th:only-of-type {\n",
       "        vertical-align: middle;\n",
       "    }\n",
       "\n",
       "    .dataframe tbody tr th {\n",
       "        vertical-align: top;\n",
       "    }\n",
       "\n",
       "    .dataframe thead th {\n",
       "        text-align: right;\n",
       "    }\n",
       "</style>\n",
       "<table border=\"1\" class=\"dataframe\">\n",
       "  <thead>\n",
       "    <tr style=\"text-align: right;\">\n",
       "      <th></th>\n",
       "      <th>frase</th>\n",
       "      <th>estructura</th>\n",
       "      <th>grupo</th>\n",
       "    </tr>\n",
       "  </thead>\n",
       "  <tbody>\n",
       "    <tr>\n",
       "      <th>2</th>\n",
       "      <td>The fur pattern on the tiger was striking and ...</td>\n",
       "      <td>DET_det NOUN_compound NOUN_nsubj ADP_prep DET_...</td>\n",
       "      <td>5</td>\n",
       "    </tr>\n",
       "    <tr>\n",
       "      <th>3</th>\n",
       "      <td>The triangle was simple but required precise t...</td>\n",
       "      <td>DET_det NOUN_nsubj AUX_ROOT ADJ_acomp CCONJ_cc...</td>\n",
       "      <td>5</td>\n",
       "    </tr>\n",
       "    <tr>\n",
       "      <th>4</th>\n",
       "      <td>The sequoia tree was so tall it seemed to touc...</td>\n",
       "      <td>DET_det NOUN_compound NOUN_nsubj AUX_ROOT ADV_...</td>\n",
       "      <td>5</td>\n",
       "    </tr>\n",
       "    <tr>\n",
       "      <th>5</th>\n",
       "      <td>The microchip was so small it could be embedde...</td>\n",
       "      <td>DET_det NOUN_nsubj AUX_ROOT ADV_advmod ADJ_aco...</td>\n",
       "      <td>5</td>\n",
       "    </tr>\n",
       "    <tr>\n",
       "      <th>16</th>\n",
       "      <td>The length of the train seemed to stretch into...</td>\n",
       "      <td>DET_det NOUN_nsubj ADP_prep DET_det NOUN_pobj ...</td>\n",
       "      <td>5</td>\n",
       "    </tr>\n",
       "  </tbody>\n",
       "</table>\n",
       "</div>"
      ],
      "text/plain": [
       "                                                frase  \\\n",
       "2   The fur pattern on the tiger was striking and ...   \n",
       "3   The triangle was simple but required precise t...   \n",
       "4   The sequoia tree was so tall it seemed to touc...   \n",
       "5   The microchip was so small it could be embedde...   \n",
       "16  The length of the train seemed to stretch into...   \n",
       "\n",
       "                                           estructura  grupo  \n",
       "2   DET_det NOUN_compound NOUN_nsubj ADP_prep DET_...      5  \n",
       "3   DET_det NOUN_nsubj AUX_ROOT ADJ_acomp CCONJ_cc...      5  \n",
       "4   DET_det NOUN_compound NOUN_nsubj AUX_ROOT ADV_...      5  \n",
       "5   DET_det NOUN_nsubj AUX_ROOT ADV_advmod ADJ_aco...      5  \n",
       "16  DET_det NOUN_nsubj ADP_prep DET_det NOUN_pobj ...      5  "
      ]
     },
     "metadata": {},
     "output_type": "display_data"
    }
   ],
   "source": [
    "# ESTE CODIGO HA SIDO CO-GENERADO CON AI\n",
    "\n",
    "# Convertimos la matriz de similitud a distancia\n",
    "dist_matrix = 1 - sim_matrix\n",
    "\n",
    "clustering = AgglomerativeClustering(\n",
    "    n_clusters=6,\n",
    "    metric='precomputed', #Para indicar que la entrada es una matriz de distancias y no datos de características, \n",
    "    linkage='average'     #linkage recomendado para distancias precomputadas\n",
    ")\n",
    "labels = clustering.fit_predict(dist_matrix)\n",
    "\n",
    "\n",
    "# Mostrar frases por grupo\n",
    "df = pd.DataFrame({\n",
    "    \"frase\": sentences,\n",
    "    \"estructura\": [\" \".join(e) for e in estructuras],\n",
    "    \"grupo\": labels\n",
    "})\n",
    "\n",
    "for g in sorted(df[\"grupo\"].unique()):\n",
    "    print(f\"\\nGrupo {g}\")\n",
    "    display(df[df[\"grupo\"] == g].head(5))  # Mostramos 5 ejemplos por grupo"
   ]
  },
  {
   "cell_type": "markdown",
   "id": "a3ea8223",
   "metadata": {},
   "source": [
    "\n",
    "**Conclusiones principales:**\n",
    " \n",
    "- Las frases tiene una estructura gramatical parecida, incluyendo todas tanto DET como NOUN y ADJ.\n",
    "- La estructura gramatical de las frases nos indica que como se puede observar a simple vista, se trata de descripciones.\n",
    "- Las agrupaciones o clusters obtenidos tienen relación en cuanto a estructura gramatical, pero no en cuanto a semántica."
   ]
  },
  {
   "cell_type": "markdown",
   "id": "a355e998",
   "metadata": {},
   "source": [
    "---"
   ]
  },
  {
   "cell_type": "markdown",
   "id": "11bfe035",
   "metadata": {},
   "source": [
    "### 4. ANALISIS SEMANTICO CON SBERT"
   ]
  },
  {
   "cell_type": "markdown",
   "id": "da2eabdb",
   "metadata": {},
   "source": [
    "\n",
    "En este apartado realizamos el **análisis semántico** de las diferentes frases, es decir, buscamos comprender la relación que existe entre ellas en términos de significado. Para ello, utilizamos **Sentence-BERT (SBERT)**, un modelo derivado de **BERT** que emplea la arquitectura **Transformer** en su componente **encoder** para generar **embeddings contextuales**. Estos embeddings capturan el significado semántico de los textos y permiten representarlos en un espacio vectorial donde frases similares quedan próximas entre sí.  \n",
    "\n",
    "Gracias a esta representación vectorial, SBERT permite realizar diversas tareas de **procesamiento de lenguaje natural** orientadas a la semántica, tales como:  \n",
    "\n",
    "- **Clustering de frases o documentos**, agrupando textos por similitud de significado.  \n",
    "- **Búsqueda semántica (semantic search)**, recuperando documentos relevantes aunque no compartan las mismas palabras clave.  \n",
    "- **Detección de duplicados o near-duplicates**, identificando frases o textos con contenido equivalente.  \n",
    "- **Clasificación basada en similitud**, asignando etiquetas según su cercanía a ejemplos de referencia.  \n",
    "- **Detección de relaciones semánticas** entre oraciones, útil para tareas de *paraphrase mining*.\n",
    "\n",
    "En este notebook se muestra un ejemplo de como realizar las dos primeras tareas de la bullet list superior.\n"
   ]
  },
  {
   "cell_type": "code",
   "execution_count": null,
   "id": "8d07e647",
   "metadata": {},
   "outputs": [
    {
     "name": "stderr",
     "output_type": "stream",
     "text": [
      "c:\\Users\\alber\\Desktop\\Sentences_NLP\\.venv\\lib\\site-packages\\tqdm\\auto.py:21: TqdmWarning: IProgress not found. Please update jupyter and ipywidgets. See https://ipywidgets.readthedocs.io/en/stable/user_install.html\n",
      "  from .autonotebook import tqdm as notebook_tqdm\n",
      "Batches:   0%|          | 0/4 [00:00<?, ?it/s]c:\\Users\\alber\\Desktop\\Sentences_NLP\\.venv\\lib\\site-packages\\torch\\nn\\modules\\module.py:1762: FutureWarning: `encoder_attention_mask` is deprecated and will be removed in version 4.55.0 for `BertSdpaSelfAttention.forward`.\n",
      "  return forward_call(*args, **kwargs)\n",
      "Batches: 100%|██████████| 4/4 [00:00<00:00, 29.00it/s]\n"
     ]
    }
   ],
   "source": [
    "model = SentenceTransformer('all-MiniLM-L6-v2')\n",
    "embeddings = model.encode(sentences, show_progress_bar=True)"
   ]
  },
  {
   "cell_type": "code",
   "execution_count": null,
   "id": "29119918",
   "metadata": {},
   "outputs": [],
   "source": [
    "similarity_matrix = cosine_similarity(embeddings)"
   ]
  },
  {
   "cell_type": "code",
   "execution_count": 9,
   "id": "c8c18fb2",
   "metadata": {},
   "outputs": [
    {
     "name": "stdout",
     "output_type": "stream",
     "text": [
      "[[ 1.          0.08263634  0.2691514  ...  0.25258923  0.19728985\n",
      "   0.00776489]\n",
      " [ 0.08263634  1.          0.16771597 ...  0.20338866  0.1908946\n",
      "   0.11287169]\n",
      " [ 0.2691514   0.16771597  1.0000004  ...  0.5062284   0.15542027\n",
      "  -0.01571176]\n",
      " ...\n",
      " [ 0.25258923  0.20338866  0.5062284  ...  0.99999976  0.21712843\n",
      "  -0.02286579]\n",
      " [ 0.19728985  0.1908946   0.15542027 ...  0.21712843  1.\n",
      "  -0.05336935]\n",
      " [ 0.00776489  0.11287169 -0.01571176 ... -0.02286579 -0.05336935\n",
      "   0.9999999 ]]\n"
     ]
    }
   ],
   "source": [
    "print(similarity_matrix)"
   ]
  },
  {
   "cell_type": "code",
   "execution_count": null,
   "id": "ac350f71",
   "metadata": {},
   "outputs": [
    {
     "name": "stdout",
     "output_type": "stream",
     "text": [
      "Número total de clusters encontrados: 13\n",
      "\n",
      "Cluster 4 (total frases: 9):\n",
      "  - The dragonfly's wings sparkled like gemstones in the sunlight.\n",
      "  - The dandelion seed head formed a delicate sphere, ready to be carried away by the wind.\n",
      "  - The petals of the rose were arranged in perfect symmetry.\n",
      "  - The dolphin's streamlined shape made it look graceful in water.\n",
      "  - The cherry blossoms were a delicate pink, symbolizing the arrival of spring.\n",
      "  - The lotus flower floated elegantly on the water, a picture of serenity.\n",
      "  - The pumpkin vine spread out over a vast area, dominating the garden.\n",
      "  - The fountain was intricately carved, adding elegance to the garden.\n",
      "  - The intricate veins of the fern leaf formed a natural work of art.\n",
      "\n",
      "Cluster 2 (total frases: 8):\n",
      "  - The bagpipes were adorned with a tartan pattern, honoring Scottish tradition.\n",
      "  - The mimosa plant responded to touch by folding its leaves.\n",
      "  - The didgeridoo produced a haunting sound that was deeply rooted in Aboriginal culture.\n",
      "  - The aloe vera plant was known for its medicinal qualities.\n",
      "  - The red maple leaves in autumn were a spectacular sight.\n",
      "  - The canoe was crafted from a single tree, showcasing traditional craftsmanship.\n",
      "  - The coffee plant was cherished for the beans it produced.\n",
      "  - The bamboo stalks created a sense of harmony and balance.\n",
      "\n",
      "Cluster 0 (total frases: 10):\n",
      "  - The fur pattern on the tiger was striking and intimidating.\n",
      "  - The porcupine had quills that could detach when threatened.\n",
      "  - The carnivorous pitcher plant lured insects into its deadly trap.\n",
      "  - The kangaroo carried its young in a pouch, making for an unusual sight.\n",
      "  - The anteater had a long tongue specialized for consuming ants.\n",
      "  - The graffiti was a bright splash of color against the gray concrete wall.\n",
      "  - The kitten was so tiny, it could curl up inside a teacup.\n",
      "  - The platypus appeared bizarre with its duck-like bill and beaver-like tail.\n",
      "  - The ivy was an aggressive climber, overtaking walls and buildings.\n",
      "  - The hedgehog's spines were surprisingly beautiful, forming a unique pattern.\n",
      "\n",
      "Cluster 1 (total frases: 7):\n",
      "  - The triangle was simple but required precise timing.\n",
      "  - The virtual reality headset offered an immersive experience.\n",
      "  - The octopus had remarkable intelligence, solving puzzles easily.\n",
      "  - The spacecraft was equipped with advanced life-support systems.\n",
      "  - The layout of the website was intuitive, making for a great user experience.\n",
      "  - The robot was capable of autonomous movement, revolutionizing industries.\n",
      "  - The computer code was elegant, optimized for both speed and readability.\n",
      "\n",
      "Cluster 12 (total frases: 7):\n",
      "  - The sequoia tree was so tall it seemed to touch the sky.\n",
      "  - The length of the train seemed to stretch into the horizon.\n",
      "  - Compared to the cargo ships, the jet ski appeared as tiny as a minnow in a pond.\n",
      "  - The size of the blue whale dwarfed even the largest of ocean vessels.\n",
      "  - The bus was so large it looked like a moving building on wheels.\n",
      "  - The elephant was so massive it seemed like a moving mountain.\n",
      "  - The cactus was surprisingly tall, standing like a sentinel in the desert.\n",
      "\n",
      "Cluster 6 (total frases: 8):\n",
      "  - The microchip was so small it could be embedded under the skin.\n",
      "  - The origami crane was minute but intricately folded.\n",
      "  - Compared to other birds, the condor's wingspan was extraordinary.\n",
      "  - The kazoo was often underestimated, but it could add a unique element to performances.\n",
      "  - The Venus flytrap was small but fierce, capturing insects with precision.\n",
      "  - The hamster was small enough to fit into the palm of a child's hand.\n",
      "  - The bonsai was tiny but perfectly formed, a miniature masterpiece.\n",
      "  - The theremin was unique in that it required no physical contact to play.\n",
      "\n",
      "Cluster 5 (total frases: 7):\n",
      "  - The pickup truck had a toolbox and a rack for carrying lumber.\n",
      "  - The quilt was a kaleidoscope of colors, each patch telling its own story.\n",
      "  - The accordion was decorated with ornate patterns that gave it an old-world charm.\n",
      "  - The bicycle had intricate patterns etched into its frame, making it a work of art.\n",
      "  - The truck was customized with elaborate graffiti that told a story.\n",
      "  - The maracas were hand-painted, each telling a unique story.\n",
      "  - The fashion accessory was adorned with complex beadwork, making it a statement piece.\n",
      "\n",
      "Cluster 11 (total frases: 6):\n",
      "  - The tuba was so large it required its own seat in the orchestra.\n",
      "  - The violin looked petite next to the towering double bass.\n",
      "  - The synthesizer could mimic a range of instruments, making it versatile.\n",
      "  - The drum set was so expansive it seemed like a small fortress.\n",
      "  - The piccolo was so small it could fit into a coat pocket.\n",
      "  - The grand piano filled the room, both in size and in sound.\n",
      "\n",
      "Cluster 9 (total frases: 5):\n",
      "  - The sitar's complex architecture made it visually fascinating.\n",
      "  - The architecture of the building was a marvel, blending old and new styles.\n",
      "  - The globe in the library was enormous, making it a centerpiece.\n",
      "  - The mural covered the entire building, making it a large-scale artwork.\n",
      "  - The sculpture was colossal, becoming a landmark in the city.\n",
      "\n",
      "Cluster 7 (total frases: 8):\n",
      "  - The luxury car had a sleek design that turned heads wherever it went.\n",
      "  - The compact sedan could easily slide into the tightest parking spots.\n",
      "  - The electric car emitted no noise, making it a silent operator on the roads.\n",
      "  - The sports car had aerodynamic curves that hinted at its speed.\n",
      "  - The vintage scooter maintained an air of elegance despite its age.\n",
      "  - The design of the smartphone was sleek and modern, appealing to young consumers.\n",
      "  - The size of the car seemed to defy physics, fitting into narrow alleys with room to spare.\n",
      "  - The minivan was equipped with the latest entertainment system for long journeys.\n",
      "\n",
      "Cluster 3 (total frases: 13):\n",
      "  - The school bus flaunted the iconic bright yellow, capturing attention immediately.\n",
      "  - The stained glass window displayed an array of colors that danced in the light.\n",
      "  - The motorcycle was painted in a shade of blue so deep it resembled the ocean.\n",
      "  - The blue orchids were so vibrant they looked almost unreal.\n",
      "  - The peacock displayed feathers of iridescent blues and greens.\n",
      "  - The sunflower was a radiant yellow, brightening up any landscape.\n",
      "  - The painting was done in shades of blue, evoking a sense of calm.\n",
      "  - The feathers of the bald eagle commanded respect and awe.\n",
      "  - The chameleon changed colors to blend in with its environment.\n",
      "  - The fire truck's red hue was so vivid that it could be spotted miles away.\n",
      "  - The fireworks lit up the sky in a myriad of colors, dazzling the crowd.\n",
      "  - The ladybug's red and black contrast made it easily noticeable.\n",
      "  - The flamingo's pink hue made it a standout among birds.\n",
      "\n",
      "Cluster 8 (total frases: 5):\n",
      "  - The helicopter was jet black, making it nearly invisible against the night sky.\n",
      "  - The RV had a retractable awning that provided shade for outdoor activities.\n",
      "  - The zebra's black and white stripes served as an effective camouflage.\n",
      "  - The drone was equipped with a high-definition camera for aerial photography.\n",
      "  - The army tank was a camouflage pattern, blending in with its surroundings.\n",
      "\n",
      "Cluster 10 (total frases: 7):\n",
      "  - The saxophone had a golden hue that shimmered under the stage lights.\n",
      "  - The lavender was a soothing purple, both in color and fragrance.\n",
      "  - The harp had an intricate wood carving, making it a piece of art as well as an instrument.\n",
      "  - The harmonica was a muted blue, belying the power of its sound.\n",
      "  - The banjo had mother-of-pearl inlays that added a touch of luxury.\n",
      "  - The flute was silver, reflecting the elegance of its melodies.\n",
      "  - The electric guitar was a vibrant purple, capturing the essence of rock.\n",
      "\n"
     ]
    }
   ],
   "source": [
    "clustering_model = AgglomerativeClustering(\n",
    "    n_clusters=None, distance_threshold=1.5\n",
    ")\n",
    "clustering_model.fit(embeddings)\n",
    "cluster_assignment = clustering_model.labels_\n",
    "\n",
    "# Crear un diccionario para agrupar las frases por cluster\n",
    "clustered_sentences = {}\n",
    "for sentence_id, cluster_id in enumerate(cluster_assignment):\n",
    "    if cluster_id not in clustered_sentences:\n",
    "        clustered_sentences[cluster_id] = []\n",
    "    clustered_sentences[cluster_id].append(sentences[sentence_id])\n",
    "\n",
    "# Mostrar el número total de clusters encontrados\n",
    "print(f\"Número total de clusters encontrados: {len(clustered_sentences)}\\n\")\n",
    "\n",
    "# Mostrar las frases de cada cluster\n",
    "for cluster_id, frases in clustered_sentences.items():\n",
    "    print(f\"Cluster {cluster_id} (total frases: {len(frases)}):\")\n",
    "    for frase in frases:\n",
    "        print(f\"  - {frase}\")\n",
    "    print(\"\")"
   ]
  },
  {
   "cell_type": "code",
   "execution_count": 24,
   "id": "8b3efc2c",
   "metadata": {},
   "outputs": [
    {
     "name": "stdout",
     "output_type": "stream",
     "text": [
      "\n",
      "Query: how are the petals of the roses\n",
      "Top 5 frases más similares en el corpus:\n",
      "(Score: 0.6994) The petals of the rose were arranged in perfect symmetry.\n",
      "(Score: 0.4520) The cherry blossoms were a delicate pink, symbolizing the arrival of spring.\n",
      "(Score: 0.3759) The fountain was intricately carved, adding elegance to the garden.\n",
      "(Score: 0.3576) The lavender was a soothing purple, both in color and fragrance.\n",
      "(Score: 0.3562) The lotus flower floated elegantly on the water, a picture of serenity.\n"
     ]
    },
    {
     "name": "stderr",
     "output_type": "stream",
     "text": [
      "c:\\Users\\alber\\Desktop\\Sentences_NLP\\.venv\\lib\\site-packages\\torch\\nn\\modules\\module.py:1762: FutureWarning:\n",
      "\n",
      "`encoder_attention_mask` is deprecated and will be removed in version 4.55.0 for `BertSdpaSelfAttention.forward`.\n",
      "\n"
     ]
    }
   ],
   "source": [
    "import torch\n",
    "\n",
    "# Definir top_k dinámicamente\n",
    "top_k = min(5, len(sentences))\n",
    "\n",
    "# Tu query única\n",
    "query = \"how are the petals of the roses\"\n",
    "\n",
    "# Generar embedding para la query\n",
    "query_embedding = model.encode(query, convert_to_tensor=True)  # encode() si son frases, no encode_query()\n",
    "\n",
    "# Calcular similitud coseno\n",
    "# model.similarity espera (1 x d) y (N x d)\n",
    "# En este caso, usamos cosine_similarity manualmente porque model no tiene similarity\n",
    "from sklearn.metrics.pairwise import cosine_similarity\n",
    "\n",
    "# Convertimos embeddings a tensor si es necesario\n",
    "if not torch.is_tensor(embeddings):\n",
    "    embeddings_tensor = torch.tensor(embeddings)\n",
    "else:\n",
    "    embeddings_tensor = embeddings\n",
    "\n",
    "# Aseguramos que query_embedding sea tensor\n",
    "if not torch.is_tensor(query_embedding):\n",
    "    query_embedding_tensor = torch.tensor(query_embedding)\n",
    "else:\n",
    "    query_embedding_tensor = query_embedding\n",
    "\n",
    "# Calculamos la similitud coseno\n",
    "similarity_scores = torch.nn.functional.cosine_similarity(\n",
    "    query_embedding_tensor.unsqueeze(0), embeddings_tensor, dim=1\n",
    ")\n",
    "\n",
    "# Tomar top_k más similares\n",
    "scores, indices = torch.topk(similarity_scores, k=top_k)\n",
    "\n",
    "print(\"\\nQuery:\", query)\n",
    "print(f\"Top {top_k} frases más similares en el corpus:\")\n",
    "\n",
    "for score, idx in zip(scores, indices):\n",
    "    print(f\"(Score: {score:.4f})\", sentences[idx])\n"
   ]
  }
 ],
 "metadata": {
  "kernelspec": {
   "display_name": "PTCI",
   "language": "python",
   "name": "ptci"
  },
  "language_info": {
   "codemirror_mode": {
    "name": "ipython",
    "version": 3
   },
   "file_extension": ".py",
   "mimetype": "text/x-python",
   "name": "python",
   "nbconvert_exporter": "python",
   "pygments_lexer": "ipython3",
   "version": "3.10.11"
  }
 },
 "nbformat": 4,
 "nbformat_minor": 5
}
