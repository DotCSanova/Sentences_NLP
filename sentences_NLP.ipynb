{
 "cells": [
  {
   "cell_type": "markdown",
   "id": "8d48d97b",
   "metadata": {},
   "source": [
    "# <h1 style=\"color:#2E86C1; text-align:center; font-size:2.8em; font-family: 'Segoe UI', Verdana, Geneva, Tahoma, sans-serif; letter-spacing:2px; margin-top:40px;\">\n",
    "#   PRUEBA TÉCNICA PARA CAMBRIAN INTELLIGENCE\n",
    "# </h1>\n",
    "# <h3 style=\"color:#117864; text-align:center; font-size:1.5em; font-family: 'Segoe UI', Verdana, Geneva, Tahoma, sans-serif; margin-bottom:40px;\">\n",
    "#   Autor: Alberto López Casanova\n",
    "# </h3>"
   ]
  },
  {
   "cell_type": "markdown",
   "id": "6a8e2d45",
   "metadata": {},
   "source": [
    "EDA\n"
   ]
  },
  {
   "cell_type": "markdown",
   "id": "d8e938da",
   "metadata": {},
   "source": [
    "\n",
    "En primer lugar, vamos a realizar un analisis exploratorio de datos para entender el tipo de frases que tenemos y sacar estadisticas que puedan ser de valor"
   ]
  },
  {
   "cell_type": "code",
   "execution_count": 5,
   "id": "78ef57f7",
   "metadata": {},
   "outputs": [],
   "source": [
    "import json\n",
    "import random\n",
    "import pandas as pd\n",
    "import numpy as np\n",
    "import matplotlib.pyplot as plt\n",
    "import seaborn as sns\n",
    "import spacy\n",
    "import string\n",
    "import re\n"
   ]
  },
  {
   "cell_type": "markdown",
   "id": "e22b6a5e",
   "metadata": {},
   "source": [
    "1. CARGA Y VISUALIZACIÓN INICIAL"
   ]
  },
  {
   "cell_type": "markdown",
   "id": "eb60fb03",
   "metadata": {},
   "source": [
    "En primer lugar cargamos el archivo, que está en formato JSON."
   ]
  },
  {
   "cell_type": "code",
   "execution_count": 2,
   "id": "9fdf323a",
   "metadata": {},
   "outputs": [],
   "source": [
    "with open('sentences.json', 'r') as f:\n",
    "    sentences = json.load(f)"
   ]
  },
  {
   "cell_type": "markdown",
   "id": "c74bc5a9",
   "metadata": {},
   "source": [
    "Hacemos un análisis básico para entender el dataset que tenemos"
   ]
  },
  {
   "cell_type": "code",
   "execution_count": 3,
   "id": "ace7e6e8",
   "metadata": {},
   "outputs": [
    {
     "name": "stdout",
     "output_type": "stream",
     "text": [
      "Total de frases: 100\n"
     ]
    }
   ],
   "source": [
    "print(f\"Total de frases: {len(sentences)}\")"
   ]
  },
  {
   "cell_type": "code",
   "execution_count": 4,
   "id": "8a4b437a",
   "metadata": {},
   "outputs": [
    {
     "name": "stdout",
     "output_type": "stream",
     "text": [
      "Primeras 5 frases:\n",
      "- The dragonfly's wings sparkled like gemstones in the sunlight.\n",
      "- The bagpipes were adorned with a tartan pattern, honoring Scottish tradition.\n",
      "- The fur pattern on the tiger was striking and intimidating.\n",
      "- The triangle was simple but required precise timing.\n",
      "- The sequoia tree was so tall it seemed to touch the sky.\n"
     ]
    }
   ],
   "source": [
    "print(\"Primeras 5 frases:\")\n",
    "for p in sentences[:5]:\n",
    "    print(\"-\", p)"
   ]
  },
  {
   "cell_type": "code",
   "execution_count": 6,
   "id": "1bc589aa",
   "metadata": {},
   "outputs": [
    {
     "name": "stdout",
     "output_type": "stream",
     "text": [
      "Frases aleatorias del dataset:\n",
      "- The robot was capable of autonomous movement, revolutionizing industries.\n",
      "- The grand piano filled the room, both in size and in sound.\n",
      "- The maracas were hand-painted, each telling a unique story.\n",
      "- The canoe was crafted from a single tree, showcasing traditional craftsmanship.\n",
      "- The graffiti was a bright splash of color against the gray concrete wall.\n"
     ]
    }
   ],
   "source": [
    "print(\"Frases aleatorias del dataset:\")\n",
    "for p in random.sample(sentences, 5):\n",
    "    print(\"-\", p)"
   ]
  },
  {
   "cell_type": "markdown",
   "id": "d312a659",
   "metadata": {},
   "source": [
    "Antes de entrar en análisis más profundo en cuanto a estadísticas y patrones de lenguaje en las diferentes frases, a simple vista podemos observar como tienen un patrón que se repite: Siempre empiezan con \"The\" + sustantivo para después describir una característica de este. Además, hacen uso de estructuras típicas de descripciones como analogías o comparaciones."
   ]
  },
  {
   "cell_type": "markdown",
   "id": "2fc1ef8a",
   "metadata": {},
   "source": [
    "2. ANÁLISIS BÁSICO"
   ]
  },
  {
   "cell_type": "markdown",
   "id": "f7d67135",
   "metadata": {},
   "source": [
    "En primer lugar analizamos metricas básicas como pueden ser longitudes de las frases, número de caracteres  y estadísticas. Para ello vamos a crear un DataFrame el cual contenga las frases, junto con el número de palabras y caracteres que tienen cada una."
   ]
  },
  {
   "cell_type": "code",
   "execution_count": 10,
   "id": "3e5966d1",
   "metadata": {},
   "outputs": [
    {
     "data": {
      "text/html": [
       "<div>\n",
       "<style scoped>\n",
       "    .dataframe tbody tr th:only-of-type {\n",
       "        vertical-align: middle;\n",
       "    }\n",
       "\n",
       "    .dataframe tbody tr th {\n",
       "        vertical-align: top;\n",
       "    }\n",
       "\n",
       "    .dataframe thead th {\n",
       "        text-align: right;\n",
       "    }\n",
       "</style>\n",
       "<table border=\"1\" class=\"dataframe\">\n",
       "  <thead>\n",
       "    <tr style=\"text-align: right;\">\n",
       "      <th></th>\n",
       "      <th>phrase</th>\n",
       "      <th>words</th>\n",
       "      <th>num_chars</th>\n",
       "    </tr>\n",
       "  </thead>\n",
       "  <tbody>\n",
       "    <tr>\n",
       "      <th>0</th>\n",
       "      <td>The dragonfly's wings sparkled like gemstones ...</td>\n",
       "      <td>9</td>\n",
       "      <td>62</td>\n",
       "    </tr>\n",
       "    <tr>\n",
       "      <th>1</th>\n",
       "      <td>The bagpipes were adorned with a tartan patter...</td>\n",
       "      <td>11</td>\n",
       "      <td>77</td>\n",
       "    </tr>\n",
       "    <tr>\n",
       "      <th>2</th>\n",
       "      <td>The fur pattern on the tiger was striking and ...</td>\n",
       "      <td>10</td>\n",
       "      <td>59</td>\n",
       "    </tr>\n",
       "    <tr>\n",
       "      <th>3</th>\n",
       "      <td>The triangle was simple but required precise t...</td>\n",
       "      <td>8</td>\n",
       "      <td>52</td>\n",
       "    </tr>\n",
       "    <tr>\n",
       "      <th>4</th>\n",
       "      <td>The sequoia tree was so tall it seemed to touc...</td>\n",
       "      <td>12</td>\n",
       "      <td>56</td>\n",
       "    </tr>\n",
       "  </tbody>\n",
       "</table>\n",
       "</div>"
      ],
      "text/plain": [
       "                                              phrase  words  num_chars\n",
       "0  The dragonfly's wings sparkled like gemstones ...      9         62\n",
       "1  The bagpipes were adorned with a tartan patter...     11         77\n",
       "2  The fur pattern on the tiger was striking and ...     10         59\n",
       "3  The triangle was simple but required precise t...      8         52\n",
       "4  The sequoia tree was so tall it seemed to touc...     12         56"
      ]
     },
     "execution_count": 10,
     "metadata": {},
     "output_type": "execute_result"
    }
   ],
   "source": [
    "df = pd.DataFrame({\n",
    "    \"phrase\": sentences,\n",
    "    \"words\": [len(p.split()) for p in sentences],\n",
    "    \"num_chars\": [len(p) for p in sentences],\n",
    "})\n",
    "\n",
    "df.head()"
   ]
  },
  {
   "cell_type": "markdown",
   "id": "26093b00",
   "metadata": {},
   "source": [
    "A continuación obtenemos los estadísticos básicos de las columnas/características \"words\" y \"num_chars\""
   ]
  },
  {
   "cell_type": "code",
   "execution_count": 13,
   "id": "6b0c43b3",
   "metadata": {},
   "outputs": [
    {
     "data": {
      "text/html": [
       "<div>\n",
       "<style scoped>\n",
       "    .dataframe tbody tr th:only-of-type {\n",
       "        vertical-align: middle;\n",
       "    }\n",
       "\n",
       "    .dataframe tbody tr th {\n",
       "        vertical-align: top;\n",
       "    }\n",
       "\n",
       "    .dataframe thead th {\n",
       "        text-align: right;\n",
       "    }\n",
       "</style>\n",
       "<table border=\"1\" class=\"dataframe\">\n",
       "  <thead>\n",
       "    <tr style=\"text-align: right;\">\n",
       "      <th></th>\n",
       "      <th>words</th>\n",
       "      <th>num_chars</th>\n",
       "    </tr>\n",
       "  </thead>\n",
       "  <tbody>\n",
       "    <tr>\n",
       "      <th>count</th>\n",
       "      <td>100.000000</td>\n",
       "      <td>100.000000</td>\n",
       "    </tr>\n",
       "    <tr>\n",
       "      <th>mean</th>\n",
       "      <td>11.490000</td>\n",
       "      <td>68.110000</td>\n",
       "    </tr>\n",
       "    <tr>\n",
       "      <th>std</th>\n",
       "      <td>2.012562</td>\n",
       "      <td>8.874996</td>\n",
       "    </tr>\n",
       "    <tr>\n",
       "      <th>min</th>\n",
       "      <td>8.000000</td>\n",
       "      <td>52.000000</td>\n",
       "    </tr>\n",
       "    <tr>\n",
       "      <th>25%</th>\n",
       "      <td>10.000000</td>\n",
       "      <td>62.000000</td>\n",
       "    </tr>\n",
       "    <tr>\n",
       "      <th>50%</th>\n",
       "      <td>11.000000</td>\n",
       "      <td>66.000000</td>\n",
       "    </tr>\n",
       "    <tr>\n",
       "      <th>75%</th>\n",
       "      <td>13.000000</td>\n",
       "      <td>74.250000</td>\n",
       "    </tr>\n",
       "    <tr>\n",
       "      <th>max</th>\n",
       "      <td>18.000000</td>\n",
       "      <td>90.000000</td>\n",
       "    </tr>\n",
       "  </tbody>\n",
       "</table>\n",
       "</div>"
      ],
      "text/plain": [
       "            words   num_chars\n",
       "count  100.000000  100.000000\n",
       "mean    11.490000   68.110000\n",
       "std      2.012562    8.874996\n",
       "min      8.000000   52.000000\n",
       "25%     10.000000   62.000000\n",
       "50%     11.000000   66.000000\n",
       "75%     13.000000   74.250000\n",
       "max     18.000000   90.000000"
      ]
     },
     "execution_count": 13,
     "metadata": {},
     "output_type": "execute_result"
    }
   ],
   "source": [
    "df.describe()"
   ]
  },
  {
   "cell_type": "markdown",
   "id": "419bb1fe",
   "metadata": {},
   "source": [
    "En general se puede observar que al ser la media de palabras por frase de 11.49 y la desviación estándar 2.02, se puede afirmar que la longitud de las frases en cuanto a palabras es muy parecida. \n",
    "En lo que a numero de caracteres respecta, la desviación estándar es mayor pero es normal ya que puede haber palabras mas largas que otras."
   ]
  },
  {
   "cell_type": "code",
   "execution_count": 15,
   "id": "4bf6995a",
   "metadata": {},
   "outputs": [],
   "source": [
    "# Configuración de estilo para gráficos\n",
    "\n",
    "sns.set_theme(style=\"whitegrid\")"
   ]
  },
  {
   "cell_type": "code",
   "execution_count": 16,
   "id": "583b1ec2",
   "metadata": {},
   "outputs": [
    {
     "data": {
      "image/png": "[encoded data removed]",
      "text/plain": [
       "<Figure size 800x500 with 1 Axes>"
      ]
     },
     "metadata": {},
     "output_type": "display_data"
    }
   ],
   "source": [
    "plt.figure(figsize=(8, 5))\n",
    "sns.histplot(df[\"words\"], bins=10, kde=True, color=\"skyblue\")\n",
    "plt.title(\"Distribución de la longitud de las frases (en palabras)\")\n",
    "plt.xlabel(\"Número de palabras\")\n",
    "plt.ylabel(\"Frecuencia\")\n",
    "plt.show()"
   ]
  },
  {
   "cell_type": "code",
   "execution_count": 17,
   "id": "899ec12b",
   "metadata": {},
   "outputs": [
    {
     "data": {
      "image/png": "[encoded data removed]",
      "text/plain": [
       "<Figure size 800x500 with 1 Axes>"
      ]
     },
     "metadata": {},
     "output_type": "display_data"
    }
   ],
   "source": [
    "# Histograma de número de caracteres por frase\n",
    "plt.figure(figsize=(8, 5))\n",
    "sns.histplot(df[\"num_chars\"], bins=10, kde=True, color=\"salmon\")\n",
    "plt.title(\"Distribución de la longitud de las frases (en caracteres)\")\n",
    "plt.xlabel(\"Número de caracteres\")\n",
    "plt.ylabel(\"Frecuencia\")\n",
    "plt.show()"
   ]
  },
  {
   "cell_type": "markdown",
   "id": "d1a3cc3a",
   "metadata": {},
   "source": [
    "Gráficamente podemos observar como la mayoría de las frases tienen entre 10 y 13 palabras, por tanto las frases son descriptivas pero no cortas ni largas. La distribución de probabilidad tanto para palabras como caracteres se acerca a una distribución normal o campana de Gauss. A simple vista ya podíamos ver como se tratan de frases escritas a conciecia o seleccionadas con un criterio consistente ya que son frases descriptivas con mucha semántica incluida. Tras este análisis hemos podido ver que el rango de longitud es estrecho y la distrubución tiene una forma de campana de gauss estrecha por lo que se confirma lo que vemos a simple vista: frases parecidas en cuanto a longitud. En caso de tener una distribución asimétrica o mucha variacion en el numero de palabras, sabríamos que las frases serían texto sin curar, diálogos, etc... pero no es el caso."
   ]
  },
  {
   "cell_type": "markdown",
   "id": "491f7820",
   "metadata": {},
   "source": [
    "CONCLUSIONES: La mayoría de las frases tienen entre 10 y 13 palabras, con una moda cercana a las 11. Esto sugiere un estilo de escritura controlado y descriptivo, con frases suficientemente largas como para contener ideas completas, pero no tan extensas como para perder coherencia semántica. Esta longitud es ideal para tareas de representación semántica mediante el uso de embeddings."
   ]
  },
  {
   "cell_type": "markdown",
   "id": "1ad5e221",
   "metadata": {},
   "source": [
    "3. ANALISIS LEXICO Y LINGUISTICO CON SPACY"
   ]
  },
  {
   "cell_type": "code",
   "execution_count": 18,
   "id": "bb83806c",
   "metadata": {},
   "outputs": [
    {
     "ename": "OSError",
     "evalue": "[E050] Can't find model 'en_core_web_sm'. It doesn't seem to be a Python package or a valid path to a data directory.",
     "output_type": "error",
     "traceback": [
      "\u001b[1;31m---------------------------------------------------------------------------\u001b[0m",
      "\u001b[1;31mOSError\u001b[0m                                   Traceback (most recent call last)",
      "Cell \u001b[1;32mIn[18], line 1\u001b[0m\n\u001b[1;32m----> 1\u001b[0m nlp \u001b[38;5;241m=\u001b[39m \u001b[43mspacy\u001b[49m\u001b[38;5;241;43m.\u001b[39;49m\u001b[43mload\u001b[49m\u001b[43m(\u001b[49m\u001b[38;5;124;43m\"\u001b[39;49m\u001b[38;5;124;43men_core_web_sm\u001b[39;49m\u001b[38;5;124;43m\"\u001b[39;49m\u001b[43m)\u001b[49m\n",
      "File \u001b[1;32mc:\\Users\\alber\\Desktop\\Sentences_NLP\\.venv\\lib\\site-packages\\spacy\\__init__.py:52\u001b[0m, in \u001b[0;36mload\u001b[1;34m(name, vocab, disable, enable, exclude, config)\u001b[0m\n\u001b[0;32m     28\u001b[0m \u001b[38;5;28;01mdef\u001b[39;00m\u001b[38;5;250m \u001b[39m\u001b[38;5;21mload\u001b[39m(\n\u001b[0;32m     29\u001b[0m     name: Union[\u001b[38;5;28mstr\u001b[39m, Path],\n\u001b[0;32m     30\u001b[0m     \u001b[38;5;241m*\u001b[39m,\n\u001b[1;32m   (...)\u001b[0m\n\u001b[0;32m     35\u001b[0m     config: Union[Dict[\u001b[38;5;28mstr\u001b[39m, Any], Config] \u001b[38;5;241m=\u001b[39m util\u001b[38;5;241m.\u001b[39mSimpleFrozenDict(),\n\u001b[0;32m     36\u001b[0m ) \u001b[38;5;241m-\u001b[39m\u001b[38;5;241m>\u001b[39m Language:\n\u001b[0;32m     37\u001b[0m \u001b[38;5;250m    \u001b[39m\u001b[38;5;124;03m\"\"\"Load a spaCy model from an installed package or a local path.\u001b[39;00m\n\u001b[0;32m     38\u001b[0m \n\u001b[0;32m     39\u001b[0m \u001b[38;5;124;03m    name (str): Package name or model path.\u001b[39;00m\n\u001b[1;32m   (...)\u001b[0m\n\u001b[0;32m     50\u001b[0m \u001b[38;5;124;03m    RETURNS (Language): The loaded nlp object.\u001b[39;00m\n\u001b[0;32m     51\u001b[0m \u001b[38;5;124;03m    \"\"\"\u001b[39;00m\n\u001b[1;32m---> 52\u001b[0m     \u001b[38;5;28;01mreturn\u001b[39;00m \u001b[43mutil\u001b[49m\u001b[38;5;241;43m.\u001b[39;49m\u001b[43mload_model\u001b[49m\u001b[43m(\u001b[49m\n\u001b[0;32m     53\u001b[0m \u001b[43m        \u001b[49m\u001b[43mname\u001b[49m\u001b[43m,\u001b[49m\n\u001b[0;32m     54\u001b[0m \u001b[43m        \u001b[49m\u001b[43mvocab\u001b[49m\u001b[38;5;241;43m=\u001b[39;49m\u001b[43mvocab\u001b[49m\u001b[43m,\u001b[49m\n\u001b[0;32m     55\u001b[0m \u001b[43m        \u001b[49m\u001b[43mdisable\u001b[49m\u001b[38;5;241;43m=\u001b[39;49m\u001b[43mdisable\u001b[49m\u001b[43m,\u001b[49m\n\u001b[0;32m     56\u001b[0m \u001b[43m        \u001b[49m\u001b[43menable\u001b[49m\u001b[38;5;241;43m=\u001b[39;49m\u001b[43menable\u001b[49m\u001b[43m,\u001b[49m\n\u001b[0;32m     57\u001b[0m \u001b[43m        \u001b[49m\u001b[43mexclude\u001b[49m\u001b[38;5;241;43m=\u001b[39;49m\u001b[43mexclude\u001b[49m\u001b[43m,\u001b[49m\n\u001b[0;32m     58\u001b[0m \u001b[43m        \u001b[49m\u001b[43mconfig\u001b[49m\u001b[38;5;241;43m=\u001b[39;49m\u001b[43mconfig\u001b[49m\u001b[43m,\u001b[49m\n\u001b[0;32m     59\u001b[0m \u001b[43m    \u001b[49m\u001b[43m)\u001b[49m\n",
      "File \u001b[1;32mc:\\Users\\alber\\Desktop\\Sentences_NLP\\.venv\\lib\\site-packages\\spacy\\util.py:484\u001b[0m, in \u001b[0;36mload_model\u001b[1;34m(name, vocab, disable, enable, exclude, config)\u001b[0m\n\u001b[0;32m    482\u001b[0m \u001b[38;5;28;01mif\u001b[39;00m name \u001b[38;5;129;01min\u001b[39;00m OLD_MODEL_SHORTCUTS:\n\u001b[0;32m    483\u001b[0m     \u001b[38;5;28;01mraise\u001b[39;00m \u001b[38;5;167;01mIOError\u001b[39;00m(Errors\u001b[38;5;241m.\u001b[39mE941\u001b[38;5;241m.\u001b[39mformat(name\u001b[38;5;241m=\u001b[39mname, full\u001b[38;5;241m=\u001b[39mOLD_MODEL_SHORTCUTS[name]))  \u001b[38;5;66;03m# type: ignore[index]\u001b[39;00m\n\u001b[1;32m--> 484\u001b[0m \u001b[38;5;28;01mraise\u001b[39;00m \u001b[38;5;167;01mIOError\u001b[39;00m(Errors\u001b[38;5;241m.\u001b[39mE050\u001b[38;5;241m.\u001b[39mformat(name\u001b[38;5;241m=\u001b[39mname))\n",
      "\u001b[1;31mOSError\u001b[0m: [E050] Can't find model 'en_core_web_sm'. It doesn't seem to be a Python package or a valid path to a data directory."
     ]
    }
   ],
   "source": [
    "nlp = spacy.load(\"en_core_web_sm\")"
   ]
  }
 ],
 "metadata": {
  "kernelspec": {
   "display_name": "PTCI",
   "language": "python",
   "name": "ptci"
  },
  "language_info": {
   "codemirror_mode": {
    "name": "ipython",
    "version": 3
   },
   "file_extension": ".py",
   "mimetype": "text/x-python",
   "name": "python",
   "nbconvert_exporter": "python",
   "pygments_lexer": "ipython3",
   "version": "3.10.11"
  }
 },
 "nbformat": 4,
 "nbformat_minor": 5
}
